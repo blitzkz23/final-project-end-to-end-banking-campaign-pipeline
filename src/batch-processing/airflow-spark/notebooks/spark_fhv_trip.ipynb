{
 "cells": [
  {
   "cell_type": "markdown",
   "id": "ad82d0e4",
   "metadata": {},
   "source": [
    "# Spark FHV Trip\n",
    "This notebook will be used for experiment purpose in order to work on my assignment"
   ]
  },
  {
   "cell_type": "markdown",
   "id": "5c4fb872",
   "metadata": {},
   "source": [
    "## Import Libs"
   ]
  },
  {
   "cell_type": "code",
   "execution_count": 1,
   "id": "8667eb51",
   "metadata": {},
   "outputs": [],
   "source": [
    "import pyspark\n",
    "from pyspark.sql import SparkSession\n",
    "from pyspark.sql import functions as F"
   ]
  },
  {
   "cell_type": "code",
   "execution_count": 2,
   "id": "95c0c9c2",
   "metadata": {},
   "outputs": [
    {
     "name": "stderr",
     "output_type": "stream",
     "text": [
      "WARNING: An illegal reflective access operation has occurred\n",
      "WARNING: Illegal reflective access by org.apache.spark.unsafe.Platform (file:/usr/local/spark-3.1.2-bin-hadoop3.2/jars/spark-unsafe_2.12-3.1.2.jar) to constructor java.nio.DirectByteBuffer(long,int)\n",
      "WARNING: Please consider reporting this to the maintainers of org.apache.spark.unsafe.Platform\n",
      "WARNING: Use --illegal-access=warn to enable warnings of further illegal reflective access operations\n",
      "WARNING: All illegal access operations will be denied in a future release\n",
      "22/12/11 09:41:00 WARN NativeCodeLoader: Unable to load native-hadoop library for your platform... using builtin-java classes where applicable\n",
      "Using Spark's default log4j profile: org/apache/spark/log4j-defaults.properties\n",
      "Setting default log level to \"WARN\".\n",
      "To adjust logging level use sc.setLogLevel(newLevel). For SparkR, use setLogLevel(newLevel).\n"
     ]
    }
   ],
   "source": [
    "# Initate spark session\n",
    "from pyspark.sql import SparkSession\n",
    "\n",
    "# Spark session & context\n",
    "spark = SparkSession.builder \\\n",
    "    .master(\"local[*]\") \\\n",
    "    .appName(\"sparkxperiment\") \\\n",
    "    .getOrCreate()"
   ]
  },
  {
   "cell_type": "code",
   "execution_count": 3,
   "id": "becfd195",
   "metadata": {},
   "outputs": [
    {
     "data": {
      "text/html": [
       "\n",
       "            <div>\n",
       "                <p><b>SparkSession - in-memory</b></p>\n",
       "                \n",
       "        <div>\n",
       "            <p><b>SparkContext</b></p>\n",
       "\n",
       "            <p><a href=\"http://e1d325d2ef6e:4040\">Spark UI</a></p>\n",
       "\n",
       "            <dl>\n",
       "              <dt>Version</dt>\n",
       "                <dd><code>v3.1.2</code></dd>\n",
       "              <dt>Master</dt>\n",
       "                <dd><code>local[*]</code></dd>\n",
       "              <dt>AppName</dt>\n",
       "                <dd><code>sparkxperiment</code></dd>\n",
       "            </dl>\n",
       "        </div>\n",
       "        \n",
       "            </div>\n",
       "        "
      ],
      "text/plain": [
       "<pyspark.sql.session.SparkSession at 0x7ff951c6cd00>"
      ]
     },
     "execution_count": 3,
     "metadata": {},
     "output_type": "execute_result"
    }
   ],
   "source": [
    "spark"
   ]
  },
  {
   "cell_type": "markdown",
   "id": "ff3dc8be",
   "metadata": {},
   "source": [
    "## Load Data"
   ]
  },
  {
   "cell_type": "code",
   "execution_count": 4,
   "id": "80b66ff9",
   "metadata": {},
   "outputs": [
    {
     "name": "stdout",
     "output_type": "stream",
     "text": [
      "/home/jovyan/work\r\n"
     ]
    }
   ],
   "source": [
    "# See current dir\n",
    "!pwd"
   ]
  },
  {
   "cell_type": "code",
   "execution_count": 73,
   "id": "4f9d7db7",
   "metadata": {},
   "outputs": [],
   "source": [
    "df_fhv_trip = (\n",
    "    spark.read\n",
    "    .format(\"parquet\")\n",
    "    .option(\"header\", True)\n",
    "    .load(\"/home/jovyan/work/data/fhv_tripdata_2021-02.parquet\")\n",
    ")"
   ]
  },
  {
   "cell_type": "code",
   "execution_count": 74,
   "id": "5246318b",
   "metadata": {},
   "outputs": [
    {
     "name": "stdout",
     "output_type": "stream",
     "text": [
      "+--------------------+-------------------+-------------------+------------+------------+-------+----------------------+\n",
      "|dispatching_base_num|    pickup_datetime|   dropOff_datetime|PUlocationID|DOlocationID|SR_Flag|Affiliated_base_number|\n",
      "+--------------------+-------------------+-------------------+------------+------------+-------+----------------------+\n",
      "|              B00013|2021-02-01 00:01:00|2021-02-01 01:33:00|        null|        null|   null|                B00014|\n",
      "|     B00021         |2021-02-01 00:55:40|2021-02-01 01:06:20|       173.0|        82.0|   null|       B00021         |\n",
      "|     B00021         |2021-02-01 00:14:03|2021-02-01 00:28:37|       173.0|        56.0|   null|       B00021         |\n",
      "|     B00021         |2021-02-01 00:27:48|2021-02-01 00:35:45|        82.0|       129.0|   null|       B00021         |\n",
      "|              B00037|2021-02-01 00:12:50|2021-02-01 00:26:38|        null|       225.0|   null|                B00037|\n",
      "+--------------------+-------------------+-------------------+------------+------------+-------+----------------------+\n",
      "only showing top 5 rows\n",
      "\n"
     ]
    }
   ],
   "source": [
    "df_fhv_trip.show(5)"
   ]
  },
  {
   "cell_type": "code",
   "execution_count": 75,
   "id": "a43dd873",
   "metadata": {},
   "outputs": [],
   "source": [
    "df_fhv_trip.createOrReplaceTempView('fhv_trip')"
   ]
  },
  {
   "cell_type": "markdown",
   "id": "6c36e1d0",
   "metadata": {},
   "source": [
    "## 1. How many taxi trips were there on February 15?"
   ]
  },
  {
   "cell_type": "markdown",
   "id": "f864bda4",
   "metadata": {},
   "source": [
    "### With Spark SQL"
   ]
  },
  {
   "cell_type": "code",
   "execution_count": 50,
   "id": "117b17af",
   "metadata": {},
   "outputs": [],
   "source": [
    "df_result1_sql = spark.sql(\n",
    "\"\"\"\n",
    "SELECT count(*)\n",
    "FROM fhv_trip\n",
    "WHERE pickup_datetime LIKE \"%2021-02-15%\"\n",
    "\"\"\")"
   ]
  },
  {
   "cell_type": "code",
   "execution_count": 51,
   "id": "bd1f0dcf",
   "metadata": {},
   "outputs": [
    {
     "name": "stderr",
     "output_type": "stream",
     "text": [
      "[Stage 34:=============================>                            (1 + 1) / 2]\r"
     ]
    },
    {
     "name": "stdout",
     "output_type": "stream",
     "text": [
      "+--------+\n",
      "|count(1)|\n",
      "+--------+\n",
      "|   34814|\n",
      "+--------+\n",
      "\n"
     ]
    },
    {
     "name": "stderr",
     "output_type": "stream",
     "text": [
      "                                                                                \r"
     ]
    }
   ],
   "source": [
    "df_result1_sql.show()"
   ]
  },
  {
   "cell_type": "markdown",
   "id": "7fbc783c",
   "metadata": {},
   "source": [
    "### With Spark"
   ]
  },
  {
   "cell_type": "code",
   "execution_count": 21,
   "id": "ef46e380",
   "metadata": {},
   "outputs": [
    {
     "name": "stderr",
     "output_type": "stream",
     "text": [
      "                                                                                \r"
     ]
    }
   ],
   "source": [
    "df_result1_spark = (df_fhv_trip.select('dispatching_base_num') \\\n",
    "    .filter(df_fhv_trip.pickup_datetime.contains(\"2021-02-15\")) \\\n",
    "    .count())"
   ]
  },
  {
   "cell_type": "code",
   "execution_count": 22,
   "id": "a6cec604",
   "metadata": {},
   "outputs": [
    {
     "data": {
      "text/plain": [
       "34814"
      ]
     },
     "execution_count": 22,
     "metadata": {},
     "output_type": "execute_result"
    }
   ],
   "source": [
    "df_result1_spark"
   ]
  },
  {
   "cell_type": "markdown",
   "id": "170b2880",
   "metadata": {},
   "source": [
    "## 2. Find the longest trip for each day ?"
   ]
  },
  {
   "cell_type": "markdown",
   "id": "a29d167c",
   "metadata": {},
   "source": [
    "### With Spark"
   ]
  },
  {
   "cell_type": "code",
   "execution_count": 50,
   "id": "2935bc0c",
   "metadata": {},
   "outputs": [],
   "source": [
    "date_col = F.to_date(df_fhv_trip.pickup_datetime)\n",
    "df_temp = df_fhv_trip\n",
    "org_col = 'Trip Date'"
   ]
  },
  {
   "cell_type": "code",
   "execution_count": 51,
   "id": "c716b61e",
   "metadata": {},
   "outputs": [],
   "source": [
    "df_temp = df_fhv_trip.withColumn(\n",
    "    'trip_duration',\n",
    "    F.round((F.col('dropOff_datetime').cast('long') - F.col('pickup_datetime').cast('long'))/3600, 2)\n",
    ")\n",
    "df_temp = df_temp.withColumn('trip_duration', F.round(F.col('trip_duration'), 2))\n",
    "df_temp = df_temp.groupBy(date_col).max('trip_duration')\n",
    "df_temp = df_temp.withColumnRenamed(f'max({\"trip_duration\"})', 'Max Duration') \\\n",
    "    .withColumnRenamed(f'to_date({\"pickup_datetime\"})', org_col)\n",
    "org_col = F.col(org_col)\n",
    "df_temp = df_temp.orderBy(org_col.asc())"
   ]
  },
  {
   "cell_type": "code",
   "execution_count": 54,
   "id": "e0a762da",
   "metadata": {},
   "outputs": [
    {
     "name": "stderr",
     "output_type": "stream",
     "text": [
      "[Stage 13:===============================================>      (175 + 2) / 200]\r"
     ]
    },
    {
     "name": "stdout",
     "output_type": "stream",
     "text": [
      "+----------+------------+\n",
      "| Trip Date|Max Duration|\n",
      "+----------+------------+\n",
      "|2021-02-01|       771.5|\n",
      "|2021-02-02|       23.18|\n",
      "|2021-02-03|      667.25|\n",
      "|2021-02-04|     1848.65|\n",
      "|2021-02-05|       53.08|\n",
      "|2021-02-06|        24.0|\n",
      "|2021-02-07|       18.69|\n",
      "|2021-02-08|      157.08|\n",
      "|2021-02-09|       24.33|\n",
      "|2021-02-10|       53.66|\n",
      "|2021-02-11|       46.99|\n",
      "|2021-02-12|        72.4|\n",
      "|2021-02-13|      140.38|\n",
      "|2021-02-14|       25.32|\n",
      "|2021-02-15|       244.5|\n",
      "|2021-02-16|       80.27|\n",
      "|2021-02-17|       71.41|\n",
      "|2021-02-18|       32.25|\n",
      "|2021-02-19|       150.2|\n",
      "|2021-02-20|       43.59|\n",
      "|2021-02-21|       24.85|\n",
      "|2021-02-22|      216.69|\n",
      "|2021-02-23|      672.53|\n",
      "|2021-02-24|        25.0|\n",
      "|2021-02-25|      674.82|\n",
      "|2021-02-26|       24.32|\n",
      "|2021-02-27|      284.73|\n",
      "|2021-02-28|      262.72|\n",
      "+----------+------------+\n",
      "\n"
     ]
    },
    {
     "name": "stderr",
     "output_type": "stream",
     "text": [
      "                                                                                \r"
     ]
    }
   ],
   "source": [
    "df_temp.show(28)"
   ]
  },
  {
   "cell_type": "markdown",
   "id": "771cc92b",
   "metadata": {},
   "source": [
    "## 3. Find Top 5 Most frequent `dispatching_base_num` ?"
   ]
  },
  {
   "cell_type": "markdown",
   "id": "02d1b1d9",
   "metadata": {},
   "source": [
    "### With Spark SQL"
   ]
  },
  {
   "cell_type": "code",
   "execution_count": 23,
   "id": "aa987765",
   "metadata": {},
   "outputs": [],
   "source": [
    "df_result3_sql = spark.sql(\n",
    "\"\"\"\n",
    "WITH five_most_freq AS(\n",
    "SELECT dispatching_base_num, COUNT(dispatching_base_num) AS freq\n",
    "FROM fhv_trip\n",
    "GROUP BY dispatching_base_num\n",
    "ORDER BY freq DESC\n",
    "LIMIT 5\n",
    ")\n",
    "\n",
    "SELECT *\n",
    "FROM five_most_freq\n",
    "\"\"\")"
   ]
  },
  {
   "cell_type": "code",
   "execution_count": 24,
   "id": "3686ea7e",
   "metadata": {
    "scrolled": true
   },
   "outputs": [
    {
     "name": "stderr",
     "output_type": "stream",
     "text": [
      "[Stage 13:=====================================================>(198 + 2) / 200]\r"
     ]
    },
    {
     "name": "stdout",
     "output_type": "stream",
     "text": [
      "+--------------------+-----+\n",
      "|dispatching_base_num| freq|\n",
      "+--------------------+-----+\n",
      "|              B00856|35077|\n",
      "|              B01312|33089|\n",
      "|              B01145|31114|\n",
      "|              B02794|30397|\n",
      "|              B03016|29794|\n",
      "+--------------------+-----+\n",
      "\n"
     ]
    },
    {
     "name": "stderr",
     "output_type": "stream",
     "text": [
      "                                                                                \r"
     ]
    }
   ],
   "source": [
    "df_result3_sql.show()"
   ]
  },
  {
   "cell_type": "code",
   "execution_count": 56,
   "id": "c912e62d",
   "metadata": {},
   "outputs": [
    {
     "data": {
      "text/plain": [
       "DataFrame[dispatching_base_num: string, freq: bigint]"
      ]
     },
     "execution_count": 56,
     "metadata": {},
     "output_type": "execute_result"
    }
   ],
   "source": [
    "df_result3_sql"
   ]
  },
  {
   "cell_type": "markdown",
   "id": "56bf99c3",
   "metadata": {},
   "source": [
    "## 4. Find Top 5 Most common location pairs (PUlocationID and DOlocationID)?"
   ]
  },
  {
   "cell_type": "code",
   "execution_count": 87,
   "id": "017cee99",
   "metadata": {},
   "outputs": [],
   "source": [
    "df_target = spark.sql(\n",
    "\"\"\"\n",
    "SELECT *\n",
    "FROM fhv_trip\n",
    "WHERE PUlocationID IS NOT NULL \n",
    "AND\n",
    "DOlocationID IS NOT NULL\n",
    "\"\"\"\n",
    ")"
   ]
  },
  {
   "cell_type": "code",
   "execution_count": 88,
   "id": "df2e1670",
   "metadata": {},
   "outputs": [],
   "source": [
    "pair_col = 'pickup_dropOff_pair'\n",
    "df_temp = df_target.withColumn(pair_col, F.struct(F.col('PUlocationID'), F.col('DOlocationID'))) \n",
    "pair_col = F.col(pair_col)\n",
    "df_temp = df_temp.groupBy(pair_col).count()\n",
    "df_result = df_temp.orderBy(F.col('count').desc())"
   ]
  },
  {
   "cell_type": "code",
   "execution_count": 89,
   "id": "ac08ad4f",
   "metadata": {},
   "outputs": [
    {
     "name": "stderr",
     "output_type": "stream",
     "text": [
      "[Stage 27:============================================>         (163 + 2) / 200]\r"
     ]
    },
    {
     "name": "stdout",
     "output_type": "stream",
     "text": [
      "+-------------------+-----+\n",
      "|pickup_dropOff_pair|count|\n",
      "+-------------------+-----+\n",
      "|     {206.0, 206.0}| 2374|\n",
      "|     {221.0, 206.0}| 2112|\n",
      "|     {129.0, 129.0}| 1902|\n",
      "|         {7.0, 7.0}| 1829|\n",
      "|     {179.0, 179.0}| 1736|\n",
      "+-------------------+-----+\n",
      "only showing top 5 rows\n",
      "\n"
     ]
    },
    {
     "name": "stderr",
     "output_type": "stream",
     "text": [
      "                                                                                \r"
     ]
    }
   ],
   "source": [
    "df_result.show(5)"
   ]
  },
  {
   "cell_type": "markdown",
   "id": "c181fbe0",
   "metadata": {},
   "source": [
    "## 5. Write all of the result to BigQuery table (additional - point plus)"
   ]
  },
  {
   "cell_type": "markdown",
   "id": "93221b66",
   "metadata": {},
   "source": [
    "### Coming Soon..."
   ]
  },
  {
   "cell_type": "code",
   "execution_count": null,
   "id": "1c11ede7",
   "metadata": {},
   "outputs": [],
   "source": []
  }
 ],
 "metadata": {
  "kernelspec": {
   "display_name": "Python 3 (ipykernel)",
   "language": "python",
   "name": "python3"
  },
  "language_info": {
   "codemirror_mode": {
    "name": "ipython",
    "version": 3
   },
   "file_extension": ".py",
   "mimetype": "text/x-python",
   "name": "python",
   "nbconvert_exporter": "python",
   "pygments_lexer": "ipython3",
   "version": "3.9.7"
  }
 },
 "nbformat": 4,
 "nbformat_minor": 5
}
